{
 "cells": [
  {
   "cell_type": "code",
   "execution_count": 10,
   "id": "8c341242",
   "metadata": {},
   "outputs": [
    {
     "name": "stdout",
     "output_type": "stream",
     "text": [
      "Input :  Edyoda\n",
      "Output :  adoydE\n"
     ]
    }
   ],
   "source": [
    "def reverse_string(str):  \n",
    "    str1 = \"\"   \n",
    "    for i in str:  \n",
    "        str1 = i + str1  \n",
    "    return str1\n",
    "        \n",
    "str = \"Edyoda\"       \n",
    "print(\"Input : \",str)  \n",
    "print(\"Output : \",reverse_string(str))"
   ]
  },
  {
   "cell_type": "code",
   "execution_count": null,
   "id": "577e5a9d",
   "metadata": {},
   "outputs": [],
   "source": []
  },
  {
   "cell_type": "code",
   "execution_count": null,
   "id": "f0dd28e2",
   "metadata": {},
   "outputs": [],
   "source": []
  }
 ],
 "metadata": {
  "kernelspec": {
   "display_name": "Python 3 (ipykernel)",
   "language": "python",
   "name": "python3"
  },
  "language_info": {
   "codemirror_mode": {
    "name": "ipython",
    "version": 3
   },
   "file_extension": ".py",
   "mimetype": "text/x-python",
   "name": "python",
   "nbconvert_exporter": "python",
   "pygments_lexer": "ipython3",
   "version": "3.9.7"
  }
 },
 "nbformat": 4,
 "nbformat_minor": 5
}
